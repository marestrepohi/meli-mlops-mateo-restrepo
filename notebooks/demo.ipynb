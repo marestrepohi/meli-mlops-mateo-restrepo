{
 "cells": [
  {
   "cell_type": "markdown",
   "id": "ac1d1e48",
   "metadata": {},
   "source": [
    "# 🏠 Housing Price Prediction - Demo Notebook\n",
    "\n",
    "Este notebook demuestra el uso del sistema de predicción de precios de viviendas.\n",
    "\n",
    "## Contenido\n",
    "1. Configuración\n",
    "2. Exploración de datos\n",
    "3. Uso del API\n",
    "4. Análisis de predicciones"
   ]
  },
  {
   "cell_type": "code",
   "execution_count": null,
   "id": "e73a8c34",
   "metadata": {},
   "outputs": [],
   "source": [
    "# Imports\n",
    "import requests\n",
    "import pandas as pd\n",
    "import numpy as np\n",
    "import matplotlib.pyplot as plt\n",
    "import seaborn as sns\n",
    "from pathlib import Path\n",
    "\n",
    "sns.set_style('whitegrid')\n",
    "plt.rcParams['figure.figsize'] = (12, 6)"
   ]
  },
  {
   "cell_type": "markdown",
   "id": "a60c05a9",
   "metadata": {},
   "source": [
    "## 1. Configuración"
   ]
  },
  {
   "cell_type": "code",
   "execution_count": null,
   "id": "dd84dde0",
   "metadata": {},
   "outputs": [],
   "source": [
    "# API URL\n",
    "API_URL = \"http://localhost:8000\"\n",
    "\n",
    "# Verificar que API está activa\n",
    "response = requests.get(f\"{API_URL}/health\")\n",
    "print(\"API Status:\", response.json())"
   ]
  },
  {
   "cell_type": "markdown",
   "id": "6f5502cb",
   "metadata": {},
   "source": [
    "## 2. Exploración de Datos"
   ]
  },
  {
   "cell_type": "code",
   "execution_count": null,
   "id": "bb47d235",
   "metadata": {},
   "outputs": [],
   "source": [
    "# Cargar datos\n",
    "df = pd.read_csv('data/boston_housing.csv')\n",
    "\n",
    "print(f\"Dataset shape: {df.shape}\")\n",
    "print(f\"\\nColumns: {df.columns.tolist()}\")\n",
    "df.head()"
   ]
  },
  {
   "cell_type": "code",
   "execution_count": null,
   "id": "cd0ea2ad",
   "metadata": {},
   "outputs": [],
   "source": [
    "# Estadísticas descriptivas\n",
    "df.describe()"
   ]
  },
  {
   "cell_type": "code",
   "execution_count": null,
   "id": "45f33eed",
   "metadata": {},
   "outputs": [],
   "source": [
    "# Distribución del target (precio)\n",
    "target_col = [col for col in df.columns if col in ['MEDV', 'medv', 'price', 'target']][-1]\n",
    "\n",
    "plt.figure(figsize=(12, 4))\n",
    "\n",
    "plt.subplot(1, 2, 1)\n",
    "plt.hist(df[target_col], bins=30, edgecolor='black', alpha=0.7)\n",
    "plt.xlabel('Price ($1000s)')\n",
    "plt.ylabel('Frequency')\n",
    "plt.title('Distribution of Housing Prices')\n",
    "\n",
    "plt.subplot(1, 2, 2)\n",
    "plt.boxplot(df[target_col])\n",
    "plt.ylabel('Price ($1000s)')\n",
    "plt.title('Price Box Plot')\n",
    "\n",
    "plt.tight_layout()\n",
    "plt.show()\n",
    "\n",
    "print(f\"Mean price: ${df[target_col].mean():.2f}k\")\n",
    "print(f\"Median price: ${df[target_col].median():.2f}k\")\n",
    "print(f\"Std dev: ${df[target_col].std():.2f}k\")"
   ]
  },
  {
   "cell_type": "code",
   "execution_count": null,
   "id": "37393c17",
   "metadata": {},
   "outputs": [],
   "source": [
    "# Correlación de features con target\n",
    "correlations = df.corr()[target_col].sort_values(ascending=False)\n",
    "\n",
    "plt.figure(figsize=(10, 6))\n",
    "correlations.drop(target_col).plot(kind='barh')\n",
    "plt.xlabel('Correlation with Price')\n",
    "plt.title('Feature Correlations')\n",
    "plt.tight_layout()\n",
    "plt.show()\n",
    "\n",
    "print(\"\\nTop positive correlations:\")\n",
    "print(correlations.head(6))\n",
    "print(\"\\nTop negative correlations:\")\n",
    "print(correlations.tail(5))"
   ]
  },
  {
   "cell_type": "markdown",
   "id": "b523c1ef",
   "metadata": {},
   "source": [
    "## 3. Uso del API"
   ]
  },
  {
   "cell_type": "code",
   "execution_count": null,
   "id": "3b592b4a",
   "metadata": {},
   "outputs": [],
   "source": [
    "# Información del modelo\n",
    "response = requests.get(f\"{API_URL}/model/info\")\n",
    "model_info = response.json()\n",
    "\n",
    "print(\"Model Type:\", model_info['model_type'])\n",
    "print(\"Features:\", model_info['features'])\n",
    "print(\"\\nPerformance Metrics:\")\n",
    "if model_info['metrics']:\n",
    "    for metric, value in model_info['metrics'].items():\n",
    "        print(f\"  {metric}: {value:.4f}\")"
   ]
  },
  {
   "cell_type": "code",
   "execution_count": null,
   "id": "3788dfe1",
   "metadata": {},
   "outputs": [],
   "source": [
    "# Hacer una predicción\n",
    "sample_input = {\n",
    "    \"CRIM\": 0.00632,\n",
    "    \"ZN\": 18.0,\n",
    "    \"INDUS\": 2.31,\n",
    "    \"CHAS\": 0.0,\n",
    "    \"NOX\": 0.538,\n",
    "    \"RM\": 6.575,\n",
    "    \"AGE\": 65.2,\n",
    "    \"DIS\": 4.0900,\n",
    "    \"RAD\": 1.0,\n",
    "    \"TAX\": 296.0,\n",
    "    \"PTRATIO\": 15.3,\n",
    "    \"B\": 396.90,\n",
    "    \"LSTAT\": 4.98\n",
    "}\n",
    "\n",
    "response = requests.post(\n",
    "    f\"{API_URL}/predict\",\n",
    "    json=sample_input\n",
    ")\n",
    "\n",
    "prediction = response.json()\n",
    "print(f\"Predicted Price: ${prediction['prediction']:.2f}k\")\n",
    "print(f\"Inference Time: {prediction['inference_time']:.4f}s\")"
   ]
  },
  {
   "cell_type": "code",
   "execution_count": null,
   "id": "a71460ba",
   "metadata": {},
   "outputs": [],
   "source": [
    "# Predicciones batch en test set\n",
    "n_samples = 20\n",
    "test_samples = df.drop(columns=[target_col]).head(n_samples).to_dict('records')\n",
    "actual_prices = df[target_col].head(n_samples).values\n",
    "\n",
    "predictions = []\n",
    "for sample in test_samples:\n",
    "    response = requests.post(f\"{API_URL}/predict\", json=sample)\n",
    "    predictions.append(response.json()['prediction'])\n",
    "\n",
    "# Comparar predicciones vs valores reales\n",
    "results_df = pd.DataFrame({\n",
    "    'Actual': actual_prices,\n",
    "    'Predicted': predictions,\n",
    "    'Error': np.abs(actual_prices - predictions)\n",
    "})\n",
    "\n",
    "print(results_df)\n",
    "print(f\"\\nMean Absolute Error: ${results_df['Error'].mean():.2f}k\")"
   ]
  },
  {
   "cell_type": "code",
   "execution_count": null,
   "id": "0c698242",
   "metadata": {},
   "outputs": [],
   "source": [
    "# Visualizar predicciones vs reales\n",
    "plt.figure(figsize=(12, 5))\n",
    "\n",
    "plt.subplot(1, 2, 1)\n",
    "plt.scatter(actual_prices, predictions, alpha=0.6)\n",
    "plt.plot([actual_prices.min(), actual_prices.max()], \n",
    "         [actual_prices.min(), actual_prices.max()], \n",
    "         'r--', lw=2, label='Perfect Prediction')\n",
    "plt.xlabel('Actual Price ($1000s)')\n",
    "plt.ylabel('Predicted Price ($1000s)')\n",
    "plt.title('Predictions vs Actual')\n",
    "plt.legend()\n",
    "plt.grid(True, alpha=0.3)\n",
    "\n",
    "plt.subplot(1, 2, 2)\n",
    "residuals = actual_prices - predictions\n",
    "plt.hist(residuals, bins=15, edgecolor='black', alpha=0.7)\n",
    "plt.xlabel('Residual ($1000s)')\n",
    "plt.ylabel('Frequency')\n",
    "plt.title('Residual Distribution')\n",
    "plt.axvline(x=0, color='r', linestyle='--', lw=2)\n",
    "plt.grid(True, alpha=0.3)\n",
    "\n",
    "plt.tight_layout()\n",
    "plt.show()"
   ]
  },
  {
   "cell_type": "markdown",
   "id": "662b7ec2",
   "metadata": {},
   "source": [
    "## 4. Análisis de Métricas del Sistema"
   ]
  },
  {
   "cell_type": "code",
   "execution_count": null,
   "id": "7e0c1aae",
   "metadata": {},
   "outputs": [],
   "source": [
    "# Métricas del sistema\n",
    "response = requests.get(f\"{API_URL}/metrics\")\n",
    "metrics = response.json()\n",
    "\n",
    "print(\"System Metrics:\")\n",
    "print(f\"  Total Predictions: {metrics['total_predictions']}\")\n",
    "print(f\"  Avg Inference Time: {metrics['avg_inference_time']:.4f}s\")\n",
    "print(f\"  P95 Inference Time: {metrics.get('p95_inference_time', 0):.4f}s\")\n",
    "print(f\"  Avg Prediction: ${metrics.get('avg_prediction', 0):.2f}k\")\n",
    "print(f\"  Uptime: {metrics['uptime_hours']:.2f} hours\")"
   ]
  },
  {
   "cell_type": "code",
   "execution_count": null,
   "id": "20565ded",
   "metadata": {},
   "outputs": [],
   "source": [
    "# Simular carga y medir latencia\n",
    "n_requests = 100\n",
    "latencies = []\n",
    "\n",
    "for i in range(n_requests):\n",
    "    sample = df.drop(columns=[target_col]).sample(1).to_dict('records')[0]\n",
    "    response = requests.post(f\"{API_URL}/predict\", json=sample)\n",
    "    latencies.append(response.json()['inference_time'])\n",
    "\n",
    "plt.figure(figsize=(12, 4))\n",
    "\n",
    "plt.subplot(1, 2, 1)\n",
    "plt.plot(latencies, alpha=0.6)\n",
    "plt.axhline(y=np.mean(latencies), color='r', linestyle='--', label=f'Mean: {np.mean(latencies):.4f}s')\n",
    "plt.xlabel('Request Number')\n",
    "plt.ylabel('Latency (seconds)')\n",
    "plt.title('Inference Latency Over Time')\n",
    "plt.legend()\n",
    "plt.grid(True, alpha=0.3)\n",
    "\n",
    "plt.subplot(1, 2, 2)\n",
    "plt.hist(latencies, bins=20, edgecolor='black', alpha=0.7)\n",
    "plt.xlabel('Latency (seconds)')\n",
    "plt.ylabel('Frequency')\n",
    "plt.title('Latency Distribution')\n",
    "plt.axvline(x=np.mean(latencies), color='r', linestyle='--', label='Mean')\n",
    "plt.axvline(x=np.percentile(latencies, 95), color='orange', linestyle='--', label='P95')\n",
    "plt.legend()\n",
    "plt.grid(True, alpha=0.3)\n",
    "\n",
    "plt.tight_layout()\n",
    "plt.show()\n",
    "\n",
    "print(f\"\\nLatency Statistics:\")\n",
    "print(f\"  Mean: {np.mean(latencies):.4f}s\")\n",
    "print(f\"  Median: {np.median(latencies):.4f}s\")\n",
    "print(f\"  P95: {np.percentile(latencies, 95):.4f}s\")\n",
    "print(f\"  P99: {np.percentile(latencies, 99):.4f}s\")\n",
    "print(f\"  Max: {np.max(latencies):.4f}s\")"
   ]
  },
  {
   "cell_type": "markdown",
   "id": "dec3dd67",
   "metadata": {},
   "source": [
    "## 5. Conclusiones\n",
    "\n",
    "- El modelo está sirviendo predicciones con baja latencia\n",
    "- Las predicciones tienen un error promedio razonable\n",
    "- El sistema es estable bajo carga\n",
    "- El monitoreo está funcionando correctamente"
   ]
  }
 ],
 "metadata": {
  "language_info": {
   "name": "python"
  }
 },
 "nbformat": 4,
 "nbformat_minor": 5
}
